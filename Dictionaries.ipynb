{
  "nbformat": 4,
  "nbformat_minor": 0,
  "metadata": {
    "colab": {
      "name": "Dictionaries.ipynb",
      "provenance": [],
      "authorship_tag": "ABX9TyNVPVGi8zvZJ3N6iUlRb+OK",
      "include_colab_link": true
    },
    "kernelspec": {
      "name": "python3",
      "display_name": "Python 3"
    }
  },
  "cells": [
    {
      "cell_type": "markdown",
      "metadata": {
        "id": "view-in-github",
        "colab_type": "text"
      },
      "source": [
        "<a href=\"https://colab.research.google.com/github/maithoi/Data-Structures-Made-Simple/blob/master/Dictionaries.ipynb\" target=\"_parent\"><img src=\"https://colab.research.google.com/assets/colab-badge.svg\" alt=\"Open In Colab\"/></a>"
      ]
    },
    {
      "cell_type": "markdown",
      "metadata": {
        "id": "DeWu_UvcAv72",
        "colab_type": "text"
      },
      "source": [
        "## Count the number of occurrences of a letter in a string \n"
      ]
    },
    {
      "cell_type": "code",
      "metadata": {
        "id": "Knp8hw34AdXQ",
        "colab_type": "code",
        "colab": {
          "base_uri": "https://localhost:8080/",
          "height": 35
        },
        "outputId": "1bebe2cc-35fb-4df0-a13e-d1e6f4be315e"
      },
      "source": [
        "def count_occ(string, letter): \n",
        "    count = 0\n",
        "    for i in range(len(string)):\n",
        "        # print(string[i])\n",
        "        if string[i] == letter: \n",
        "            count +=1 \n",
        "    return count \n",
        "\n",
        "count_occ('maithoi', 'i')"
      ],
      "execution_count": null,
      "outputs": [
        {
          "output_type": "execute_result",
          "data": {
            "text/plain": [
              "2"
            ]
          },
          "metadata": {
            "tags": []
          },
          "execution_count": 13
        }
      ]
    },
    {
      "cell_type": "markdown",
      "metadata": {
        "id": "LDeQxyUaDToH",
        "colab_type": "text"
      },
      "source": [
        "# Form the frequency table of the letter in the string\n",
        " \n",
        "\n"
      ]
    },
    {
      "cell_type": "code",
      "metadata": {
        "id": "GrDTawUqD8OP",
        "colab_type": "code",
        "colab": {
          "base_uri": "https://localhost:8080/",
          "height": 35
        },
        "outputId": "b82ec2d7-a187-4a4a-d4b4-26b6fd05a202"
      },
      "source": [
        "my_name = 'maithoi'\n",
        "\n",
        "# Define empty dictionary with key-value pairs are letter-counting_frequency\n",
        "letter_count = {}\n",
        "\n",
        "def frequency_table(input_str): \n",
        "    # interate over the string \n",
        "    for let in input_str:\n",
        "        # Get counting_value at letter_key\n",
        "        # If see the letter at the first time then assign it to ZER0 and count to 1 \n",
        "        letter_count[let] = letter_count.get(let,0) + 1\n",
        "    return letter_count \n",
        "\n",
        "freq_tab = frequency_table(my_name)\n",
        "\n",
        "list_tab = list(freq_tab.items())\n",
        "print(sorted(list_tab))\n"
      ],
      "execution_count": null,
      "outputs": [
        {
          "output_type": "stream",
          "text": [
            "[('a', 1), ('h', 1), ('i', 2), ('m', 1), ('o', 1), ('t', 1)]\n"
          ],
          "name": "stdout"
        }
      ]
    },
    {
      "cell_type": "markdown",
      "metadata": {
        "id": "b1UG3XwnKQC7",
        "colab_type": "text"
      },
      "source": [
        "# 20.8. Exercises\n",
        "## Ex1\n",
        "\n",
        "Write a program that reads a string and returns a table of the letters of the alphabet in alphabetical order which occur in the string together with the number of times each letter occurs. Case should be ignored. A sample output of the program when the user enters the data \n",
        "> “ThiS is String with Upper and lower case Letters”\n",
        "\n",
        "Would look this this:\n",
        "\n",
        "```\n",
        "a  2\n",
        "c  1\n",
        "d  1\n",
        "e  5\n",
        "g  1\n",
        "h  2\n",
        "i  4\n",
        "l  2\n",
        "n  2\n",
        "o  1\n",
        "p  2\n",
        "r  4\n",
        "s  5\n",
        "t  5\n",
        "u  1\n",
        "w  2\n"
      ]
    },
    {
      "cell_type": "code",
      "metadata": {
        "id": "PTKTYhQDLDdu",
        "colab_type": "code",
        "colab": {}
      },
      "source": [
        "letter_count = {}\n",
        "def frequency_table(input_str): \n",
        "    def split_string(string): \n",
        "  \n",
        "        # Split the string based on space delimiter \n",
        "        list_string = string.split(' ') \n",
        "        \n",
        "        return list_string \n",
        "  \n",
        "    def join_string(list_string): \n",
        "    \n",
        "        # concate all letters of string & omit the space \n",
        "        string = ''.join(list_string) \n",
        "        \n",
        "        return string.lower()\n",
        "\n",
        "    normalize_str = join_string(split_string(input_str))\n",
        "    \n",
        "    for let in normalize_str:\n",
        "        # If see the letter at the first time then assign it to ZER0 and count to 1 \n",
        "        letter_count[let] = letter_count.get(let,0) + 1\n",
        "    \n",
        "    return letter_count"
      ],
      "execution_count": null,
      "outputs": []
    },
    {
      "cell_type": "code",
      "metadata": {
        "id": "98V_R3UGUxbu",
        "colab_type": "code",
        "colab": {
          "base_uri": "https://localhost:8080/",
          "height": 305
        },
        "outputId": "436ec302-ecfc-45e6-8cce-718aaa80f8a9"
      },
      "source": [
        "input_str = 'ThiS is String with Upper and lower case Letters'\n",
        "frequency_table(input_str)\n",
        "\n",
        "# for key in freq_tab: \n",
        "#     print(key, freq_tab[key])"
      ],
      "execution_count": null,
      "outputs": [
        {
          "output_type": "execute_result",
          "data": {
            "text/plain": [
              "{'a': 2,\n",
              " 'c': 1,\n",
              " 'd': 1,\n",
              " 'e': 5,\n",
              " 'g': 1,\n",
              " 'h': 2,\n",
              " 'i': 4,\n",
              " 'l': 2,\n",
              " 'n': 2,\n",
              " 'o': 1,\n",
              " 'p': 2,\n",
              " 'r': 4,\n",
              " 's': 5,\n",
              " 't': 5,\n",
              " 'u': 1,\n",
              " 'w': 2}"
            ]
          },
          "metadata": {
            "tags": []
          },
          "execution_count": 74
        }
      ]
    }
  ]
}